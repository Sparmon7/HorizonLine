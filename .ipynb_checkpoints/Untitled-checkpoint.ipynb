{
 "cells": [
  {
   "cell_type": "code",
   "execution_count": 4,
   "id": "cf1c2102-9004-4555-a096-231e1ce88dcc",
   "metadata": {},
   "outputs": [
    {
     "name": "stdout",
     "output_type": "stream",
     "text": [
      "                               key      x1          y1      x2          y2\n",
      "0  Alamo/10047212_41697ad358_o.jpg -5000.0  445.311034  5000.0  -62.602260\n",
      "1  Alamo/10047308_4a06a44dda_o.jpg -5000.0  -12.093302  5000.0  -82.762503\n",
      "2  Alamo/10047400_4909449851_o.jpg -5000.0   17.049646  5000.0 -106.346477\n",
      "3  Alamo/10047483_7f3c5d0d06_o.jpg -5000.0  173.736483  5000.0 -284.656196\n",
      "4  Alamo/10047560_66d1e7603f_o.jpg -5000.0  190.756194  5000.0 -217.127378\n"
     ]
    }
   ],
   "source": [
    "#process outputs\n",
    "import pandas as pd\n",
    "df = pd.read_csv('data/metadata.csv', header=None)\n",
    "df.columns = ['key', 'x1','y1','x2','y2']"
   ]
  },
  {
   "cell_type": "code",
   "execution_count": 6,
   "id": "b955e39b-95b5-4673-98b7-d8d158d58258",
   "metadata": {},
   "outputs": [
    {
     "ename": "ModuleNotFoundError",
     "evalue": "No module named 'tensorflow'",
     "output_type": "error",
     "traceback": [
      "\u001b[1;31m---------------------------------------------------------------------------\u001b[0m",
      "\u001b[1;31mModuleNotFoundError\u001b[0m                       Traceback (most recent call last)",
      "Cell \u001b[1;32mIn[6], line 1\u001b[0m\n\u001b[1;32m----> 1\u001b[0m \u001b[38;5;28;01mimport\u001b[39;00m\u001b[38;5;250m \u001b[39m\u001b[38;5;21;01mtensorflow\u001b[39;00m\u001b[38;5;250m \u001b[39m\u001b[38;5;28;01mas\u001b[39;00m\u001b[38;5;250m \u001b[39m\u001b[38;5;21;01mtf\u001b[39;00m\n\u001b[0;32m      2\u001b[0m \u001b[38;5;28;01mdef\u001b[39;00m\u001b[38;5;250m \u001b[39m\u001b[38;5;21mprocess\u001b[39m(path):\n\u001b[0;32m      3\u001b[0m     img \u001b[38;5;241m=\u001b[39m tf\u001b[38;5;241m.\u001b[39mio\u001b[38;5;241m.\u001b[39mread_file(path)\n",
      "\u001b[1;31mModuleNotFoundError\u001b[0m: No module named 'tensorflow'"
     ]
    }
   ],
   "source": [
    "import tensorflow as tf\n",
    "def process(path):\n",
    "    img = tf.io.read_file(path)\n",
    "    img = tf.image.decode_jpeg(img, channels=3)\n",
    "    img = img / 255.0\n",
    "    label = np.array(df[df[0] == path].iloc[0, 1:5])\n",
    "    return img, label\n",
    "with open('data/split/train.txt','r') as file:\n",
    "    for line in file:\n",
    "        import matplotlib.pyplot as plt\n",
    "        plt.imshow(process(line.strip())[0])\n",
    "        exit()"
   ]
  },
  {
   "cell_type": "code",
   "execution_count": null,
   "id": "93416be6-8f7c-41ad-a7d5-0c2175505383",
   "metadata": {},
   "outputs": [],
   "source": []
  }
 ],
 "metadata": {
  "kernelspec": {
   "display_name": "559env",
   "language": "python",
   "name": "559env"
  },
  "language_info": {
   "codemirror_mode": {
    "name": "ipython",
    "version": 3
   },
   "file_extension": ".py",
   "mimetype": "text/x-python",
   "name": "python",
   "nbconvert_exporter": "python",
   "pygments_lexer": "ipython3",
   "version": "3.12.3"
  }
 },
 "nbformat": 4,
 "nbformat_minor": 5
}
